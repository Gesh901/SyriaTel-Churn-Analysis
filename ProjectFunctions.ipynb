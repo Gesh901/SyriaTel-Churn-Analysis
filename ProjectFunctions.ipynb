{
 "cells": [
  {
   "cell_type": "code",
   "execution_count": 5,
   "metadata": {},
   "outputs": [],
   "source": [
    "import pandas as pd\n",
    "\n",
    "def load_data(data):\n",
    "    \"\"\"\n",
    "    Loads the data and saves the data as a datframe\n",
    "    \n",
    "    Parameter: The path of the data to be loaded\n",
    "    \n",
    "    Returns: The top  five rows of the dataframe\n",
    "    \n",
    "    \"\"\"\n",
    "    \n",
    "    df = pd.read_csv(data)\n",
    "    \n",
    "    return data"
   ]
  },
  {
   "cell_type": "code",
   "execution_count": 6,
   "metadata": {},
   "outputs": [],
   "source": [
    "def describe_data(df):\n",
    "    \"\"\"\n",
    "    Summarizes a pandas DataFrame by displaying its shape, basic information, \n",
    "    and descriptive statistics.\n",
    "    \n",
    "    Parameters:\n",
    "        df (pd.DataFrame): The DataFrame to be described.\n",
    "        \n",
    "    Returns:\n",
    "        None: Prints the dataset description.\n",
    "    \"\"\"\n",
    "    print(\"------------------Data Shape-------------------\")\n",
    "    print(df.shape)  # Rows and columns\n",
    "    print(\"\\n----------------Data Info--------------------\")\n",
    "    print(df.info())  # Data types and non-null counts\n",
    "    print(\"\\n----------------Data Description-------------\")\n",
    "    print(df.describe())  # Descriptive statistics for numerical columns"
   ]
  },
  {
   "cell_type": "code",
   "execution_count": 7,
   "metadata": {},
   "outputs": [],
   "source": [
    "def analyse_data(df):\n",
    "    \n",
    "    \"\"\"\n",
    "    Summarizes a pandas DataFrame by displaying whether it's missing values, has duplicates, \n",
    "    \n",
    "    Parameters:\n",
    "        df (pd.DataFrame): The DataFrame to be described.\n",
    "        \n",
    "    Returns:\n",
    "        None: Prints the dataset description.\n",
    "    \"\"\"\n",
    "    \n",
    "    print(\"---------------------Missing Values-----------------\")\n",
    "    print(df.isnull().sum())  # Missing values per column\n",
    "    \n",
    "    print(\"\\n\\n ----------------Duplicates---------------------\")\n",
    "    print(df.duplicated(keep = False))  # Missing values per column\n",
    "    \n",
    "    "
   ]
  },
  {
   "cell_type": "code",
   "execution_count": 8,
   "metadata": {},
   "outputs": [],
   "source": [
    "def boxplot(x,y,data):\n",
    "    sns.boxplot(x= x, y= y, data=data)\n",
    "    plt.title(f\"{y} vs {x}\")\n",
    "    plt.show()"
   ]
  },
  {
   "cell_type": "code",
   "execution_count": 9,
   "metadata": {},
   "outputs": [],
   "source": [
    "def countplox(x,y,data):\n",
    "    sns.countplot(x= x , hue='churn', data=data)\n",
    "    plt.title(f\"{y} vs {x}\")\n",
    "    plt.show()"
   ]
  }
 ],
 "metadata": {
  "kernelspec": {
   "display_name": "Python (learn-env)",
   "language": "python",
   "name": "learn-env"
  },
  "language_info": {
   "codemirror_mode": {
    "name": "ipython",
    "version": 3
   },
   "file_extension": ".py",
   "mimetype": "text/x-python",
   "name": "python",
   "nbconvert_exporter": "python",
   "pygments_lexer": "ipython3",
   "version": "3.8.5"
  }
 },
 "nbformat": 4,
 "nbformat_minor": 4
}
