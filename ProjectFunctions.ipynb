{
 "cells": [
  {
   "cell_type": "code",
   "execution_count": 2,
   "metadata": {},
   "outputs": [],
   "source": [
    "import pandas as pd\n",
    "import pandas as pd\n",
    "import seaborn as sns\n",
    "import matplotlib.pyplot as plt\n",
    "import numpy as np\n",
    "\n",
    "from sklearn.metrics import precision_score,recall_score, accuracy_score, f1_score, roc_curve, auc\n",
    "from sklearn.metrics import confusion_matrix, ConfusionMatrixDisplay\n",
    "\n",
    "\n",
    "def load_data(data):\n",
    "    \"\"\"\n",
    "    Loads the data and saves the data as a datframe\n",
    "    \n",
    "    Parameter: The path of the data to be loaded\n",
    "    \n",
    "    Returns: The top  five rows of the dataframe\n",
    "    \n",
    "    \"\"\"\n",
    "    \n",
    "    df = pd.read_csv(data)\n",
    "    \n",
    "    return df"
   ]
  },
  {
   "cell_type": "code",
   "execution_count": 4,
   "metadata": {},
   "outputs": [],
   "source": [
    "def describe_data(df):\n",
    "    \"\"\"\n",
    "    Summarizes a pandas DataFrame by displaying its shape, basic information, \n",
    "    and descriptive statistics.\n",
    "    \n",
    "    Parameters:\n",
    "        df (pd.DataFrame): The DataFrame to be described.\n",
    "        \n",
    "    Returns:\n",
    "        None: Prints the dataset description.\n",
    "    \"\"\"\n",
    "    print(\"------------------Data Shape-------------------\")\n",
    "    print(df.shape)  # Rows and columns\n",
    "    print(\"\\n----------------Data Info--------------------\")\n",
    "    print(df.info())  # Data types and non-null counts\n",
    "    print(\"\\n----------------Data Description-------------\")\n",
    "    print(df.describe())  # Descriptive statistics for numerical columns"
   ]
  },
  {
   "cell_type": "code",
   "execution_count": 6,
   "metadata": {},
   "outputs": [],
   "source": [
    "def analyse_data(df):\n",
    "    \n",
    "    \"\"\"\n",
    "    Summarizes a pandas DataFrame by displaying whether it's missing values, has duplicates, \n",
    "    \n",
    "    Parameters:\n",
    "        df (pd.DataFrame): The DataFrame to be described.\n",
    "        \n",
    "    Returns:\n",
    "        None: Prints the dataset description.\n",
    "    \"\"\"\n",
    "    \n",
    "    print(\"---------------------Missing Values-----------------\")\n",
    "    print(df.isnull().sum())  # Missing values per column\n",
    "    \n",
    "    print(\"\\n\\n ----------------Duplicates---------------------\")\n",
    "    print(df.duplicated(keep = False).sum())  # Missing values per column\n",
    "    \n",
    "    "
   ]
  },
  {
   "cell_type": "code",
   "execution_count": 7,
   "metadata": {},
   "outputs": [],
   "source": [
    "def boxplot(x,y,data):\n",
    "    sns.boxplot(x= x, y= y, data=data)\n",
    "    plt.title(f\"{y} vs {x}\")\n",
    "    plt.show()"
   ]
  },
  {
   "cell_type": "code",
   "execution_count": 8,
   "metadata": {},
   "outputs": [],
   "source": [
    "def countplot(x,data):\n",
    "    sns.countplot(x= x , hue='churn', data=data)\n",
    "    plt.title(f\"{x} vs churn\")\n",
    "    plt.show()"
   ]
  },
  {
   "cell_type": "code",
   "execution_count": 9,
   "metadata": {},
   "outputs": [],
   "source": [
    "\n",
    "def roc_auc(model, X_train,X_test, y_train, y_test):\n",
    "    \n",
    "    # Probability scores for test set\n",
    "    y_score = model.fit(X_train,y_train).decision_function(X_test)\n",
    "\n",
    "    # False positive rate and true positive rate\n",
    "    fpr, tpr, thresholds = roc_curve(y_test,y_score)\n",
    "\n",
    "    # Seaborn's beautiful styling\n",
    "    sns.set_style('darkgrid', {'axes.facecolor': '0.9'})\n",
    "\n",
    "    # Print AUC\n",
    "\n",
    "    print('AUC: {}'.format(auc(fpr, tpr)))\n",
    "\n",
    "    # Plot the ROC curve\n",
    "\n",
    "    plt.figure(figsize=(10, 8))\n",
    "    lw = 2\n",
    "    plt.plot(fpr, tpr, color='darkorange',\n",
    "             lw=lw, label='ROC curve')\n",
    "    plt.plot([0, 1], [0, 1], color='navy', lw=lw, linestyle='--')\n",
    "    plt.xlim([0.0, 1.0])\n",
    "    plt.ylim([0.0, 1.05])\n",
    "    plt.yticks([i/20.0 for i in range(21)])\n",
    "    plt.xticks([i/20.0 for i in range(21)])\n",
    "    plt.xlabel('False Positive Rate')\n",
    "    plt.ylabel('True Positive Rate')\n",
    "    plt.title('Receiver operating characteristic (ROC) Curve for Test Set')\n",
    "    plt.legend(loc='lower right')\n",
    "\n",
    "    plt.show()"
   ]
  },
  {
   "cell_type": "code",
   "execution_count": 10,
   "metadata": {},
   "outputs": [],
   "source": [
    "def evaluation_metrics(y_test,y_pred, model):\n",
    "    \n",
    "    print(f\"Precision for {model} = {precision_score(y_test, y_pred)}\")\n",
    "    print(\"\\n\")\n",
    "    print(f\"Recall for {model} = {recall_score(y_test, y_pred)}\")\n",
    "    print(\"\\n\")\n",
    "    print(f\"Accuracy for {model} = {accuracy_score(y_test, y_pred)}\")\n",
    "    print(\"\\n\")\n",
    "    print(f\"F1 score for {model}  = {f1_score(y_test, y_pred)}\")\n"
   ]
  },
  {
   "cell_type": "code",
   "execution_count": 11,
   "metadata": {},
   "outputs": [],
   "source": [
    "def confusion_matrix(y_test,y_pred):\n",
    "    cnf_matrix = confusion_matrix(y_test,y_pred)\n",
    "    print('Confusion Matrix:\\n', cnf_matrix)\n",
    "    # Visualize your confusion matrix\n",
    "    disp = ConfusionMatrixDisplay(confusion_matrix=cnf_matrix)\n",
    "    disp.plot();\n",
    "    "
   ]
  },
  {
   "cell_type": "code",
   "execution_count": null,
   "metadata": {},
   "outputs": [],
   "source": []
  }
 ],
 "metadata": {
  "kernelspec": {
   "display_name": "Python (learn-env)",
   "language": "python",
   "name": "learn-env"
  },
  "language_info": {
   "codemirror_mode": {
    "name": "ipython",
    "version": 3
   },
   "file_extension": ".py",
   "mimetype": "text/x-python",
   "name": "python",
   "nbconvert_exporter": "python",
   "pygments_lexer": "ipython3",
   "version": "3.8.5"
  }
 },
 "nbformat": 4,
 "nbformat_minor": 4
}
